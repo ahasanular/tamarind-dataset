{
 "cells": [
  {
   "metadata": {
    "ExecuteTime": {
     "end_time": "2025-09-23T07:54:29.209656Z",
     "start_time": "2025-09-23T07:54:29.205917Z"
    }
   },
   "cell_type": "code",
   "source": [
    "import torch\n",
    "import torch.nn as nn\n",
    "import torch.nn.functional as F\n",
    "from torch.utils.data import Dataset, DataLoader\n",
    "import timm\n",
    "import pandas as pd\n",
    "from PIL import Image\n",
    "import torchvision.transforms as T\n",
    "from sklearn.metrics import classification_report\n",
    "import numpy as np\n",
    "from pathlib import Path"
   ],
   "id": "ecabb61912f44cb4",
   "outputs": [],
   "execution_count": 17
  },
  {
   "metadata": {
    "ExecuteTime": {
     "end_time": "2025-09-23T07:54:48.941147Z",
     "start_time": "2025-09-23T07:54:48.938467Z"
    }
   },
   "cell_type": "code",
   "source": [
    "BATCH_SIZE = 32\n",
    "IMG_SIZE = 224\n",
    "EPOCHS = 30\n",
    "LR = 1e-4\n",
    "DEVICE = \"cuda\" if torch.cuda.is_available() else \"mps\"  # MPS for Mac M4\n",
    "NUM_WORKERS = 4\n",
    "N_CLASSES = 2  # healthy vs unhealthy\n",
    "N_DOMAINS = 3  # shelled, unshelled, mixed"
   ],
   "id": "881e48135a34e0c1",
   "outputs": [],
   "execution_count": 27
  },
  {
   "metadata": {
    "ExecuteTime": {
     "end_time": "2025-09-23T07:54:32.075916Z",
     "start_time": "2025-09-23T07:54:32.073205Z"
    }
   },
   "cell_type": "code",
   "source": [
    "class TamarindDataset(Dataset):\n",
    "    def __init__(self, csv_file, transform=None):\n",
    "        df = pd.read_csv(csv_file)\n",
    "        self.df = df\n",
    "        self.transform = transform\n",
    "        self.cls2idx = {\"healthy\":0, \"unhealthy\":1}\n",
    "        self.dom2idx = {\"shelled\":0, \"unshelled\":1, \"mixed\":2}\n",
    "    def __len__(self):\n",
    "        return len(self.df)\n",
    "    def __getitem__(self, idx):\n",
    "        row = self.df.iloc[idx]\n",
    "        img = Image.open(row['path']).convert(\"RGB\")\n",
    "        if self.transform:\n",
    "            img = self.transform(img)\n",
    "        label = self.cls2idx[row['class']]\n",
    "        domain = self.dom2idx.get(row['domain'], 0)\n",
    "        return img, label, domain"
   ],
   "id": "45cfff0cf9ffaada",
   "outputs": [],
   "execution_count": 19
  },
  {
   "metadata": {
    "ExecuteTime": {
     "end_time": "2025-09-23T07:54:32.716655Z",
     "start_time": "2025-09-23T07:54:32.712901Z"
    }
   },
   "cell_type": "code",
   "source": [
    "train_tfms = T.Compose([\n",
    "    T.RandomResizedCrop(IMG_SIZE),\n",
    "    T.RandomHorizontalFlip(),\n",
    "    T.ColorJitter(0.2,0.2,0.2,0.02),\n",
    "    T.ToTensor(),\n",
    "    T.Normalize([0.485,0.456,0.406],[0.229,0.224,0.225])\n",
    "])\n",
    "\n",
    "val_tfms = T.Compose([\n",
    "    T.Resize((IMG_SIZE,IMG_SIZE)),\n",
    "    T.ToTensor(),\n",
    "    T.Normalize([0.485,0.456,0.406],[0.229,0.224,0.225])\n",
    "])"
   ],
   "id": "1f23069fad4e3c41",
   "outputs": [],
   "execution_count": 20
  },
  {
   "metadata": {
    "ExecuteTime": {
     "end_time": "2025-09-23T07:54:33.311751Z",
     "start_time": "2025-09-23T07:54:33.308410Z"
    }
   },
   "cell_type": "code",
   "source": [
    "class FiLMAdapter(nn.Module):\n",
    "    def __init__(self, feat_dim, n_domains):\n",
    "        super().__init__()\n",
    "        self.gamma = nn.Embedding(n_domains, feat_dim)\n",
    "        self.beta = nn.Embedding(n_domains, feat_dim)\n",
    "    def forward(self, feats, domain_idx):\n",
    "        gamma = self.gamma(domain_idx)\n",
    "        beta = self.beta(domain_idx)\n",
    "        return feats * (1 + gamma.unsqueeze(1)) + beta.unsqueeze(1)"
   ],
   "id": "ac6e6566411a13af",
   "outputs": [],
   "execution_count": 21
  },
  {
   "metadata": {
    "ExecuteTime": {
     "end_time": "2025-09-23T07:54:33.767665Z",
     "start_time": "2025-09-23T07:54:33.763024Z"
    }
   },
   "cell_type": "code",
   "source": [
    "class TeacherModel(nn.Module):\n",
    "    def __init__(self, n_classes=2, n_domains=3):\n",
    "        super().__init__()\n",
    "        self.backbone = timm.create_model(\"swin_tiny_patch4_window7_224\", pretrained=True, num_classes=0)\n",
    "        feat_dim = self.backbone.num_features\n",
    "        self.film = FiLMAdapter(feat_dim, n_domains)\n",
    "        self.classifier = nn.Linear(feat_dim, n_classes)\n",
    "    def forward(self, x, domain_idx):\n",
    "        feats = self.backbone(x)  # [B, feat_dim]\n",
    "        feats = self.film(feats, domain_idx)\n",
    "        logits = self.classifier(feats)\n",
    "        return logits, feats"
   ],
   "id": "8c1604f8f3714b63",
   "outputs": [],
   "execution_count": 22
  },
  {
   "metadata": {
    "ExecuteTime": {
     "end_time": "2025-09-23T07:54:35.157060Z",
     "start_time": "2025-09-23T07:54:35.153402Z"
    }
   },
   "cell_type": "code",
   "source": [
    "def contrastive_loss(feats, labels, temp=0.1):\n",
    "    # Normalize\n",
    "    feats = F.normalize(feats, dim=1)\n",
    "    logits = feats @ feats.T / temp\n",
    "    targets = torch.eq(labels.unsqueeze(1), labels.unsqueeze(0)).float()\n",
    "    loss = F.cross_entropy(logits, targets.argmax(dim=1))\n",
    "    return loss"
   ],
   "id": "4a06192dd922e9a4",
   "outputs": [],
   "execution_count": 23
  },
  {
   "metadata": {
    "ExecuteTime": {
     "end_time": "2025-09-23T07:54:36.239419Z",
     "start_time": "2025-09-23T07:54:36.234862Z"
    }
   },
   "cell_type": "code",
   "source": [
    "def train_epoch(model, loader, opt, ce_loss, device):\n",
    "    model.train()\n",
    "    total_loss = 0\n",
    "    for imgs, labels, domains in loader:\n",
    "        imgs, labels, domains = imgs.to(device), labels.to(device), domains.to(device)\n",
    "        opt.zero_grad()\n",
    "        logits, feats = model(imgs, domains)\n",
    "        loss_ce = ce_loss(logits, labels)\n",
    "        loss_con = contrastive_loss(feats, labels)\n",
    "        loss = loss_ce + 0.1 * loss_con\n",
    "        loss.backward()\n",
    "        opt.step()\n",
    "        total_loss += loss.item()\n",
    "    return total_loss / len(loader)"
   ],
   "id": "5241a9b768cf2ee1",
   "outputs": [],
   "execution_count": 24
  },
  {
   "metadata": {
    "ExecuteTime": {
     "end_time": "2025-09-23T07:54:36.915321Z",
     "start_time": "2025-09-23T07:54:36.910832Z"
    }
   },
   "cell_type": "code",
   "source": [
    "@torch.no_grad()\n",
    "def evaluate(model, loader, device):\n",
    "    model.eval()\n",
    "    y_true, y_pred = [], []\n",
    "    for imgs, labels, domains in loader:\n",
    "        imgs, labels, domains = imgs.to(device), labels.to(device), domains.to(device)\n",
    "        logits, _ = model(imgs, domains)\n",
    "        preds = logits.argmax(1).cpu().numpy()\n",
    "        y_true.extend(labels.cpu().numpy())\n",
    "        y_pred.extend(preds)\n",
    "    print(classification_report(y_true, y_pred, target_names=[\"healthy\",\"unhealthy\"]))\n",
    "    return np.mean(np.array(y_true)==np.array(y_pred))"
   ],
   "id": "3a73f26862396677",
   "outputs": [],
   "execution_count": 25
  },
  {
   "metadata": {
    "ExecuteTime": {
     "end_time": "2025-09-23T07:54:37.732360Z",
     "start_time": "2025-09-23T07:54:37.708687Z"
    }
   },
   "cell_type": "code",
   "source": [
    "train_ds = TamarindDataset(\"./output/split_train.csv\", transform=train_tfms)\n",
    "val_ds = TamarindDataset(\"./output/split_val.csv\", transform=val_tfms)\n",
    "train_loader = DataLoader(train_ds, batch_size=BATCH_SIZE, shuffle=True, num_workers=NUM_WORKERS)\n",
    "val_loader = DataLoader(val_ds, batch_size=BATCH_SIZE, shuffle=False, num_workers=NUM_WORKERS)"
   ],
   "id": "d088dc2c90aba2d5",
   "outputs": [],
   "execution_count": 26
  },
  {
   "metadata": {
    "ExecuteTime": {
     "end_time": "2025-09-23T07:55:29.944497Z",
     "start_time": "2025-09-23T07:55:00.622924Z"
    }
   },
   "cell_type": "code",
   "source": [
    "model = TeacherModel(N_CLASSES, N_DOMAINS).to(DEVICE)\n",
    "opt = torch.optim.AdamW(model.parameters(), lr=LR, weight_decay=1e-4)\n",
    "ce_loss = nn.CrossEntropyLoss()"
   ],
   "id": "222b018c796f62e2",
   "outputs": [],
   "execution_count": 28
  },
  {
   "metadata": {
    "ExecuteTime": {
     "end_time": "2025-09-23T16:54:05.219581Z",
     "start_time": "2025-09-23T07:55:47.675206Z"
    }
   },
   "cell_type": "code",
   "source": [
    "best_acc = 0\n",
    "for epoch in range(EPOCHS):\n",
    "    loss = train_epoch(model, train_loader, opt, ce_loss, DEVICE)\n",
    "    acc = evaluate(model, val_loader, DEVICE)\n",
    "    print(f\"Epoch {epoch+1}/{EPOCHS}, Loss {loss:.4f}, Val Acc {acc:.3f}\")\n",
    "    if acc > best_acc:\n",
    "        best_acc = acc\n",
    "        torch.save(model.state_dict(), \"teacher_best.pth\")\n",
    "print(\"Training done. Best val acc:\", best_acc)"
   ],
   "id": "6fea00c48db80e97",
   "outputs": [
    {
     "name": "stderr",
     "output_type": "stream",
     "text": [
      "Traceback (most recent call last):\n",
      "  File \u001B[35m\"<string>\"\u001B[0m, line \u001B[35m1\u001B[0m, in \u001B[35m<module>\u001B[0m\n",
      "    from multiprocessing.spawn import spawn_main; \u001B[31mspawn_main\u001B[0m\u001B[1;31m(tracker_fd=84, pipe_handle=101)\u001B[0m\n",
      "                                                  \u001B[31m~~~~~~~~~~\u001B[0m\u001B[1;31m^^^^^^^^^^^^^^^^^^^^^^^^^^^^^^^^\u001B[0m\n",
      "  File \u001B[35m\"/Library/Frameworks/Python.framework/Versions/3.13/lib/python3.13/multiprocessing/spawn.py\"\u001B[0m, line \u001B[35m122\u001B[0m, in \u001B[35mspawn_main\u001B[0m\n",
      "    exitcode = _main(fd, parent_sentinel)\n",
      "  File \u001B[35m\"/Library/Frameworks/Python.framework/Versions/3.13/lib/python3.13/multiprocessing/spawn.py\"\u001B[0m, line \u001B[35m132\u001B[0m, in \u001B[35m_main\u001B[0m\n",
      "    self = reduction.pickle.load(from_parent)\n",
      "\u001B[1;35mAttributeError\u001B[0m: \u001B[35mCan't get attribute 'TamarindDataset' on <module '__main__' (<class '_frozen_importlib.BuiltinImporter'>)>\u001B[0m\n"
     ]
    },
    {
     "ename": "KeyboardInterrupt",
     "evalue": "",
     "output_type": "error",
     "traceback": [
      "\u001B[31m---------------------------------------------------------------------------\u001B[39m",
      "\u001B[31mKeyboardInterrupt\u001B[39m                         Traceback (most recent call last)",
      "\u001B[36mCell\u001B[39m\u001B[36m \u001B[39m\u001B[32mIn[29]\u001B[39m\u001B[32m, line 3\u001B[39m\n\u001B[32m      1\u001B[39m best_acc = \u001B[32m0\u001B[39m\n\u001B[32m      2\u001B[39m \u001B[38;5;28;01mfor\u001B[39;00m epoch \u001B[38;5;129;01min\u001B[39;00m \u001B[38;5;28mrange\u001B[39m(EPOCHS):\n\u001B[32m----> \u001B[39m\u001B[32m3\u001B[39m     loss = \u001B[43mtrain_epoch\u001B[49m\u001B[43m(\u001B[49m\u001B[43mmodel\u001B[49m\u001B[43m,\u001B[49m\u001B[43m \u001B[49m\u001B[43mtrain_loader\u001B[49m\u001B[43m,\u001B[49m\u001B[43m \u001B[49m\u001B[43mopt\u001B[49m\u001B[43m,\u001B[49m\u001B[43m \u001B[49m\u001B[43mce_loss\u001B[49m\u001B[43m,\u001B[49m\u001B[43m \u001B[49m\u001B[43mDEVICE\u001B[49m\u001B[43m)\u001B[49m\n\u001B[32m      4\u001B[39m     acc = evaluate(model, val_loader, DEVICE)\n\u001B[32m      5\u001B[39m     \u001B[38;5;28mprint\u001B[39m(\u001B[33mf\u001B[39m\u001B[33m\"\u001B[39m\u001B[33mEpoch \u001B[39m\u001B[38;5;132;01m{\u001B[39;00mepoch+\u001B[32m1\u001B[39m\u001B[38;5;132;01m}\u001B[39;00m\u001B[33m/\u001B[39m\u001B[38;5;132;01m{\u001B[39;00mEPOCHS\u001B[38;5;132;01m}\u001B[39;00m\u001B[33m, Loss \u001B[39m\u001B[38;5;132;01m{\u001B[39;00mloss\u001B[38;5;132;01m:\u001B[39;00m\u001B[33m.4f\u001B[39m\u001B[38;5;132;01m}\u001B[39;00m\u001B[33m, Val Acc \u001B[39m\u001B[38;5;132;01m{\u001B[39;00macc\u001B[38;5;132;01m:\u001B[39;00m\u001B[33m.3f\u001B[39m\u001B[38;5;132;01m}\u001B[39;00m\u001B[33m\"\u001B[39m)\n",
      "\u001B[36mCell\u001B[39m\u001B[36m \u001B[39m\u001B[32mIn[24]\u001B[39m\u001B[32m, line 4\u001B[39m, in \u001B[36mtrain_epoch\u001B[39m\u001B[34m(model, loader, opt, ce_loss, device)\u001B[39m\n\u001B[32m      2\u001B[39m model.train()\n\u001B[32m      3\u001B[39m total_loss = \u001B[32m0\u001B[39m\n\u001B[32m----> \u001B[39m\u001B[32m4\u001B[39m \u001B[43m\u001B[49m\u001B[38;5;28;43;01mfor\u001B[39;49;00m\u001B[43m \u001B[49m\u001B[43mimgs\u001B[49m\u001B[43m,\u001B[49m\u001B[43m \u001B[49m\u001B[43mlabels\u001B[49m\u001B[43m,\u001B[49m\u001B[43m \u001B[49m\u001B[43mdomains\u001B[49m\u001B[43m \u001B[49m\u001B[38;5;129;43;01min\u001B[39;49;00m\u001B[43m \u001B[49m\u001B[43mloader\u001B[49m\u001B[43m:\u001B[49m\n\u001B[32m      5\u001B[39m \u001B[43m    \u001B[49m\u001B[43mimgs\u001B[49m\u001B[43m,\u001B[49m\u001B[43m \u001B[49m\u001B[43mlabels\u001B[49m\u001B[43m,\u001B[49m\u001B[43m \u001B[49m\u001B[43mdomains\u001B[49m\u001B[43m \u001B[49m\u001B[43m=\u001B[49m\u001B[43m \u001B[49m\u001B[43mimgs\u001B[49m\u001B[43m.\u001B[49m\u001B[43mto\u001B[49m\u001B[43m(\u001B[49m\u001B[43mdevice\u001B[49m\u001B[43m)\u001B[49m\u001B[43m,\u001B[49m\u001B[43m \u001B[49m\u001B[43mlabels\u001B[49m\u001B[43m.\u001B[49m\u001B[43mto\u001B[49m\u001B[43m(\u001B[49m\u001B[43mdevice\u001B[49m\u001B[43m)\u001B[49m\u001B[43m,\u001B[49m\u001B[43m \u001B[49m\u001B[43mdomains\u001B[49m\u001B[43m.\u001B[49m\u001B[43mto\u001B[49m\u001B[43m(\u001B[49m\u001B[43mdevice\u001B[49m\u001B[43m)\u001B[49m\n\u001B[32m      6\u001B[39m \u001B[43m    \u001B[49m\u001B[43mopt\u001B[49m\u001B[43m.\u001B[49m\u001B[43mzero_grad\u001B[49m\u001B[43m(\u001B[49m\u001B[43m)\u001B[49m\n",
      "\u001B[36mFile \u001B[39m\u001B[32m~/PycharmProjects/tamarind-disease-detection/.venv/lib/python3.13/site-packages/torch/utils/data/dataloader.py:494\u001B[39m, in \u001B[36mDataLoader.__iter__\u001B[39m\u001B[34m(self)\u001B[39m\n\u001B[32m    492\u001B[39m     \u001B[38;5;28;01mreturn\u001B[39;00m \u001B[38;5;28mself\u001B[39m._iterator\n\u001B[32m    493\u001B[39m \u001B[38;5;28;01melse\u001B[39;00m:\n\u001B[32m--> \u001B[39m\u001B[32m494\u001B[39m     \u001B[38;5;28;01mreturn\u001B[39;00m \u001B[38;5;28;43mself\u001B[39;49m\u001B[43m.\u001B[49m\u001B[43m_get_iterator\u001B[49m\u001B[43m(\u001B[49m\u001B[43m)\u001B[49m\n",
      "\u001B[36mFile \u001B[39m\u001B[32m~/PycharmProjects/tamarind-disease-detection/.venv/lib/python3.13/site-packages/torch/utils/data/dataloader.py:427\u001B[39m, in \u001B[36mDataLoader._get_iterator\u001B[39m\u001B[34m(self)\u001B[39m\n\u001B[32m    425\u001B[39m \u001B[38;5;28;01melse\u001B[39;00m:\n\u001B[32m    426\u001B[39m     \u001B[38;5;28mself\u001B[39m.check_worker_number_rationality()\n\u001B[32m--> \u001B[39m\u001B[32m427\u001B[39m     \u001B[38;5;28;01mreturn\u001B[39;00m \u001B[43m_MultiProcessingDataLoaderIter\u001B[49m\u001B[43m(\u001B[49m\u001B[38;5;28;43mself\u001B[39;49m\u001B[43m)\u001B[49m\n",
      "\u001B[36mFile \u001B[39m\u001B[32m~/PycharmProjects/tamarind-disease-detection/.venv/lib/python3.13/site-packages/torch/utils/data/dataloader.py:1172\u001B[39m, in \u001B[36m_MultiProcessingDataLoaderIter.__init__\u001B[39m\u001B[34m(self, loader)\u001B[39m\n\u001B[32m   1165\u001B[39m w.daemon = \u001B[38;5;28;01mTrue\u001B[39;00m\n\u001B[32m   1166\u001B[39m \u001B[38;5;66;03m# NB: Process.start() actually take some time as it needs to\u001B[39;00m\n\u001B[32m   1167\u001B[39m \u001B[38;5;66;03m#     start a process and pass the arguments over via a pipe.\u001B[39;00m\n\u001B[32m   1168\u001B[39m \u001B[38;5;66;03m#     Therefore, we only add a worker to self._workers list after\u001B[39;00m\n\u001B[32m   1169\u001B[39m \u001B[38;5;66;03m#     it started, so that we do not call .join() if program dies\u001B[39;00m\n\u001B[32m   1170\u001B[39m \u001B[38;5;66;03m#     before it starts, and __del__ tries to join but will get:\u001B[39;00m\n\u001B[32m   1171\u001B[39m \u001B[38;5;66;03m#     AssertionError: can only join a started process.\u001B[39;00m\n\u001B[32m-> \u001B[39m\u001B[32m1172\u001B[39m \u001B[43mw\u001B[49m\u001B[43m.\u001B[49m\u001B[43mstart\u001B[49m\u001B[43m(\u001B[49m\u001B[43m)\u001B[49m\n\u001B[32m   1173\u001B[39m \u001B[38;5;28mself\u001B[39m._index_queues.append(index_queue)\n\u001B[32m   1174\u001B[39m \u001B[38;5;28mself\u001B[39m._workers.append(w)\n",
      "\u001B[36mFile \u001B[39m\u001B[32m/Library/Frameworks/Python.framework/Versions/3.13/lib/python3.13/multiprocessing/process.py:121\u001B[39m, in \u001B[36mBaseProcess.start\u001B[39m\u001B[34m(self)\u001B[39m\n\u001B[32m    118\u001B[39m \u001B[38;5;28;01massert\u001B[39;00m \u001B[38;5;129;01mnot\u001B[39;00m _current_process._config.get(\u001B[33m'\u001B[39m\u001B[33mdaemon\u001B[39m\u001B[33m'\u001B[39m), \\\n\u001B[32m    119\u001B[39m        \u001B[33m'\u001B[39m\u001B[33mdaemonic processes are not allowed to have children\u001B[39m\u001B[33m'\u001B[39m\n\u001B[32m    120\u001B[39m _cleanup()\n\u001B[32m--> \u001B[39m\u001B[32m121\u001B[39m \u001B[38;5;28mself\u001B[39m._popen = \u001B[38;5;28;43mself\u001B[39;49m\u001B[43m.\u001B[49m\u001B[43m_Popen\u001B[49m\u001B[43m(\u001B[49m\u001B[38;5;28;43mself\u001B[39;49m\u001B[43m)\u001B[49m\n\u001B[32m    122\u001B[39m \u001B[38;5;28mself\u001B[39m._sentinel = \u001B[38;5;28mself\u001B[39m._popen.sentinel\n\u001B[32m    123\u001B[39m \u001B[38;5;66;03m# Avoid a refcycle if the target function holds an indirect\u001B[39;00m\n\u001B[32m    124\u001B[39m \u001B[38;5;66;03m# reference to the process object (see bpo-30775)\u001B[39;00m\n",
      "\u001B[36mFile \u001B[39m\u001B[32m/Library/Frameworks/Python.framework/Versions/3.13/lib/python3.13/multiprocessing/context.py:224\u001B[39m, in \u001B[36mProcess._Popen\u001B[39m\u001B[34m(process_obj)\u001B[39m\n\u001B[32m    222\u001B[39m \u001B[38;5;129m@staticmethod\u001B[39m\n\u001B[32m    223\u001B[39m \u001B[38;5;28;01mdef\u001B[39;00m\u001B[38;5;250m \u001B[39m\u001B[34m_Popen\u001B[39m(process_obj):\n\u001B[32m--> \u001B[39m\u001B[32m224\u001B[39m     \u001B[38;5;28;01mreturn\u001B[39;00m \u001B[43m_default_context\u001B[49m\u001B[43m.\u001B[49m\u001B[43mget_context\u001B[49m\u001B[43m(\u001B[49m\u001B[43m)\u001B[49m\u001B[43m.\u001B[49m\u001B[43mProcess\u001B[49m\u001B[43m.\u001B[49m\u001B[43m_Popen\u001B[49m\u001B[43m(\u001B[49m\u001B[43mprocess_obj\u001B[49m\u001B[43m)\u001B[49m\n",
      "\u001B[36mFile \u001B[39m\u001B[32m/Library/Frameworks/Python.framework/Versions/3.13/lib/python3.13/multiprocessing/context.py:289\u001B[39m, in \u001B[36mSpawnProcess._Popen\u001B[39m\u001B[34m(process_obj)\u001B[39m\n\u001B[32m    286\u001B[39m \u001B[38;5;129m@staticmethod\u001B[39m\n\u001B[32m    287\u001B[39m \u001B[38;5;28;01mdef\u001B[39;00m\u001B[38;5;250m \u001B[39m\u001B[34m_Popen\u001B[39m(process_obj):\n\u001B[32m    288\u001B[39m     \u001B[38;5;28;01mfrom\u001B[39;00m\u001B[38;5;250m \u001B[39m\u001B[34;01m.\u001B[39;00m\u001B[34;01mpopen_spawn_posix\u001B[39;00m\u001B[38;5;250m \u001B[39m\u001B[38;5;28;01mimport\u001B[39;00m Popen\n\u001B[32m--> \u001B[39m\u001B[32m289\u001B[39m     \u001B[38;5;28;01mreturn\u001B[39;00m \u001B[43mPopen\u001B[49m\u001B[43m(\u001B[49m\u001B[43mprocess_obj\u001B[49m\u001B[43m)\u001B[49m\n",
      "\u001B[36mFile \u001B[39m\u001B[32m/Library/Frameworks/Python.framework/Versions/3.13/lib/python3.13/multiprocessing/popen_spawn_posix.py:32\u001B[39m, in \u001B[36mPopen.__init__\u001B[39m\u001B[34m(self, process_obj)\u001B[39m\n\u001B[32m     30\u001B[39m \u001B[38;5;28;01mdef\u001B[39;00m\u001B[38;5;250m \u001B[39m\u001B[34m__init__\u001B[39m(\u001B[38;5;28mself\u001B[39m, process_obj):\n\u001B[32m     31\u001B[39m     \u001B[38;5;28mself\u001B[39m._fds = []\n\u001B[32m---> \u001B[39m\u001B[32m32\u001B[39m     \u001B[38;5;28;43msuper\u001B[39;49m\u001B[43m(\u001B[49m\u001B[43m)\u001B[49m\u001B[43m.\u001B[49m\u001B[34;43m__init__\u001B[39;49m\u001B[43m(\u001B[49m\u001B[43mprocess_obj\u001B[49m\u001B[43m)\u001B[49m\n",
      "\u001B[36mFile \u001B[39m\u001B[32m/Library/Frameworks/Python.framework/Versions/3.13/lib/python3.13/multiprocessing/popen_fork.py:20\u001B[39m, in \u001B[36mPopen.__init__\u001B[39m\u001B[34m(self, process_obj)\u001B[39m\n\u001B[32m     18\u001B[39m \u001B[38;5;28mself\u001B[39m.returncode = \u001B[38;5;28;01mNone\u001B[39;00m\n\u001B[32m     19\u001B[39m \u001B[38;5;28mself\u001B[39m.finalizer = \u001B[38;5;28;01mNone\u001B[39;00m\n\u001B[32m---> \u001B[39m\u001B[32m20\u001B[39m \u001B[38;5;28;43mself\u001B[39;49m\u001B[43m.\u001B[49m\u001B[43m_launch\u001B[49m\u001B[43m(\u001B[49m\u001B[43mprocess_obj\u001B[49m\u001B[43m)\u001B[49m\n",
      "\u001B[36mFile \u001B[39m\u001B[32m/Library/Frameworks/Python.framework/Versions/3.13/lib/python3.13/multiprocessing/popen_spawn_posix.py:62\u001B[39m, in \u001B[36mPopen._launch\u001B[39m\u001B[34m(self, process_obj)\u001B[39m\n\u001B[32m     60\u001B[39m     \u001B[38;5;28mself\u001B[39m.sentinel = parent_r\n\u001B[32m     61\u001B[39m     \u001B[38;5;28;01mwith\u001B[39;00m \u001B[38;5;28mopen\u001B[39m(parent_w, \u001B[33m'\u001B[39m\u001B[33mwb\u001B[39m\u001B[33m'\u001B[39m, closefd=\u001B[38;5;28;01mFalse\u001B[39;00m) \u001B[38;5;28;01mas\u001B[39;00m f:\n\u001B[32m---> \u001B[39m\u001B[32m62\u001B[39m         \u001B[43mf\u001B[49m\u001B[43m.\u001B[49m\u001B[43mwrite\u001B[49m\u001B[43m(\u001B[49m\u001B[43mfp\u001B[49m\u001B[43m.\u001B[49m\u001B[43mgetbuffer\u001B[49m\u001B[43m(\u001B[49m\u001B[43m)\u001B[49m\u001B[43m)\u001B[49m\n\u001B[32m     63\u001B[39m \u001B[38;5;28;01mfinally\u001B[39;00m:\n\u001B[32m     64\u001B[39m     fds_to_close = []\n",
      "\u001B[31mKeyboardInterrupt\u001B[39m: "
     ]
    }
   ],
   "execution_count": 29
  },
  {
   "metadata": {},
   "cell_type": "code",
   "outputs": [],
   "execution_count": null,
   "source": "",
   "id": "edd00d8db8839d70"
  }
 ],
 "metadata": {
  "kernelspec": {
   "name": "python3",
   "language": "python",
   "display_name": "Python 3 (ipykernel)"
  }
 },
 "nbformat": 4,
 "nbformat_minor": 5
}
